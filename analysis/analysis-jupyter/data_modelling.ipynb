{
 "cells": [
  {
   "cell_type": "markdown",
   "metadata": {},
   "source": [
    "#### Data Cleaning"
   ]
  },
  {
   "cell_type": "code",
   "execution_count": 2,
   "metadata": {},
   "outputs": [],
   "source": [
    "import pandas as pd\n",
    "import duckdb\n",
    "from ydata_profiling import ProfileReport\n",
    "import matplotlib.pyplot as plt\n",
    "import seaborn as sns\n",
    "import numpy as np\n",
    "from openpyxl import load_workbook"
   ]
  },
  {
   "cell_type": "code",
   "execution_count": 4,
   "metadata": {},
   "outputs": [
    {
     "ename": "IOException",
     "evalue": "IO Error: Could not set lock on file \"/workspaces/doe_case_study_task/analysis/analysis-jupyter/../../database/nsw_doe_data_case_study.duckdb\": Resource temporarily unavailable",
     "output_type": "error",
     "traceback": [
      "\u001b[0;31m---------------------------------------------------------------------------\u001b[0m",
      "\u001b[0;31mIOException\u001b[0m                               Traceback (most recent call last)",
      "Cell \u001b[0;32mIn[4], line 2\u001b[0m\n\u001b[1;32m      1\u001b[0m \u001b[39m# db connection\u001b[39;00m\n\u001b[0;32m----> 2\u001b[0m con \u001b[39m=\u001b[39m duckdb\u001b[39m.\u001b[39;49mconnect(\u001b[39m'\u001b[39;49m\u001b[39m../../database/nsw_doe_data_case_study.duckdb\u001b[39;49m\u001b[39m'\u001b[39;49m,read_only\u001b[39m=\u001b[39;49m\u001b[39mFalse\u001b[39;49;00m)\n",
      "\u001b[0;31mIOException\u001b[0m: IO Error: Could not set lock on file \"/workspaces/doe_case_study_task/analysis/analysis-jupyter/../../database/nsw_doe_data_case_study.duckdb\": Resource temporarily unavailable"
     ]
    }
   ],
   "source": [
    "# db connection\n",
    "con = duckdb.connect('../../database/nsw_doe_data_case_study.duckdb',read_only=False)\n"
   ]
  },
  {
   "cell_type": "markdown",
   "metadata": {},
   "source": [
    "### Create Table from csv file"
   ]
  },
  {
   "cell_type": "code",
   "execution_count": null,
   "metadata": {},
   "outputs": [],
   "source": [
    "# Drop the tables if they exist\n",
    "con.execute(\"DROP TABLE IF EXISTS multi_age_composite_dataset;\")\n",
    "con.execute(\"DROP TABLE IF EXISTS student_attendance_dataset;\")\n",
    "# Create the tables from CSV files\n",
    "con.execute(\"\"\"\n",
    "CREATE TABLE multi_age_composite_dataset AS \n",
    "SELECT * FROM READ_CSV_AUTO('../../data/2022-multi-age_composite-classes-final.csv');\n",
    "\"\"\")\n",
    "con.execute(\"\"\"\n",
    "CREATE TABLE student_attendance_dataset AS \n",
    "SELECT * FROM READ_CSV_AUTO('../../data/2022-attendance-data-final.csv');\n",
    "\"\"\")\n",
    "# Update column names\n",
    "con.execute(\"\"\"\n",
    "ALTER TABLE multi_age_composite_dataset \n",
    "RENAME COLUMN \"School Code\" TO School_code;\n",
    "\"\"\")\n",
    "con.execute(\"\"\"\n",
    "ALTER TABLE multi_age_composite_dataset \n",
    "RENAME COLUMN \"School Name\" TO School_name;\n",
    "\"\"\")\n",
    "con.execute(\"\"\"\n",
    "ALTER TABLE student_attendance_dataset \n",
    "RENAME COLUMN school_code TO School_code;\n",
    "\"\"\")\n",
    "con.execute(\"\"\"\n",
    "ALTER TABLE student_attendance_dataset \n",
    "RENAME COLUMN school_name TO School_name;\n",
    "\"\"\")"
   ]
  },
  {
   "cell_type": "markdown",
   "metadata": {},
   "source": [
    "#### Unpivoting multi_age_composite_dataset"
   ]
  },
  {
   "cell_type": "code",
   "execution_count": null,
   "metadata": {},
   "outputs": [],
   "source": [
    "# Define constants\n",
    "years = ['14', '15', '16', '17', '18', '19', '21', '22']\n",
    "measures = ['COMPOSITE_CLASS_COUNT', 'COMPOSITE_CLASS_STUDENTS', 'PCT_COMPOSITE_CLASSES', 'PCT_COMPOSITE_CLASS_STUDENTS']\n",
    "# Flatten the table\n",
    "flattened_queries = []\n",
    "for year in years:\n",
    "    year_cols = [f\"{measure}_{year} AS {measure}\" for measure in measures]\n",
    "    query = f\"\"\"\n",
    "    SELECT \n",
    "        School_code,\n",
    "        School_Name,\n",
    "        '20{year}' AS Year,\n",
    "        {', '.join(year_cols)}\n",
    "    FROM multi_age_composite_dataset\n",
    "    \"\"\"\n",
    "    flattened_queries.append(query)\n",
    "final_flattened_query = \"\\nUNION ALL\\n\".join(flattened_queries)\n",
    "con.execute(f\"CREATE TABLE multi_age_composite_unpivoted AS {final_flattened_query}\")"
   ]
  },
  {
   "cell_type": "markdown",
   "metadata": {},
   "source": [
    "#### Unpivoting student_attendance_dataset"
   ]
  },
  {
   "cell_type": "code",
   "execution_count": null,
   "metadata": {},
   "outputs": [],
   "source": [
    "columns = con.execute(\"PRAGMA table_info(student_attendance_dataset)\").fetchall()\n",
    "year_columns = [str(row[1]) for row in columns if row[1].isdigit()]\n",
    "sql_parts = []\n",
    "for year in year_columns:\n",
    "    sql_part = f\"\"\"\n",
    "    SELECT \n",
    "        school_code AS School_Code,\n",
    "        school_name AS School_Name,\n",
    "        '{year}' AS Year,\n",
    "        \"{year}\" AS Attendance_pct\n",
    "    FROM student_attendance_dataset\n",
    "    \"\"\"\n",
    "    sql_parts.append(sql_part)\n",
    "sql_command = \"\\nUNION ALL\\n\".join(sql_parts)\n",
    "con.execute(f\"CREATE TABLE student_attendance_unpivoted AS {sql_command}\")\n"
   ]
  },
  {
   "cell_type": "markdown",
   "metadata": {},
   "source": [
    "#### Update data types of multi_age_composite_unpivoted"
   ]
  },
  {
   "cell_type": "code",
   "execution_count": null,
   "metadata": {},
   "outputs": [],
   "source": [
    "# Update 'NULL' string values to actual NULL values for selected columns\n",
    "columns_to_check = ['Pct_composite_classes', 'Pct_composite_class_students']\n",
    "\n",
    "for col in columns_to_check:\n",
    "    con.execute(f\"\"\"\n",
    "    UPDATE multi_age_composite_unpivoted\n",
    "    SET {col} = NULL\n",
    "    WHERE {col} = 'NULL';\n",
    "    \"\"\")\n",
    "\n",
    "# Drop the temporary table if it exists\n",
    "con.execute(\"DROP TABLE IF EXISTS temp_table;\")\n",
    "\n",
    "# Create a temporary table with desired data types and rounded values\n",
    "con.execute(\"\"\"\n",
    "CREATE TABLE temp_table (\n",
    "    School_code INT,\n",
    "    School_name VARCHAR(255),\n",
    "    Year INT,\n",
    "    Composite_class_count INT,\n",
    "    Composite_class_students INT,\n",
    "    Pct_composite_classes FLOAT,\n",
    "    Pct_composite_class_students FLOAT\n",
    ");\n",
    "\"\"\")\n",
    "\n",
    "# Insert data into the temporary table after casting and rounding\n",
    "con.execute(\"\"\"\n",
    "INSERT INTO temp_table \n",
    "SELECT \n",
    "    CAST(School_code AS INT),\n",
    "    CAST(School_name AS VARCHAR(255)),\n",
    "    CAST(Year AS INT),\n",
    "    CAST(Composite_class_count AS INT),\n",
    "    CAST(Composite_class_students AS INT),\n",
    "    ROUND(CAST(Pct_composite_classes AS FLOAT), 2),\n",
    "    ROUND(CAST(Pct_composite_class_students AS FLOAT), 2)\n",
    "FROM multi_age_composite_unpivoted;\n",
    "\"\"\")\n",
    "# Drop the original table\n",
    "con.execute(\"DROP TABLE multi_age_composite_unpivoted;\")\n",
    "# Rename the temporary table to the original table name\n",
    "con.execute(\"ALTER TABLE temp_table RENAME TO multi_age_composite_unpivoted;\")\n",
    "# Commit the changes (optional, based on how you're managing transactions)\n",
    "con.commit()"
   ]
  },
  {
   "cell_type": "markdown",
   "metadata": {},
   "source": [
    "##### Update datatypes of student_attendance_unpivoted"
   ]
  },
  {
   "cell_type": "code",
   "execution_count": null,
   "metadata": {},
   "outputs": [],
   "source": [
    "# Create a temporary table\n",
    "con.execute(\"DROP TABLE IF EXISTS temp_attendance_table;\")\n",
    "con.execute(\"\"\"\n",
    "CREATE TABLE temp_attendance_table (\n",
    "    School_Code INT,\n",
    "    School_Name VARCHAR(255),\n",
    "    Year INT,\n",
    "    Attendance_pct FLOAT\n",
    ");\n",
    "\"\"\")\n",
    "# Copy data \n",
    "con.execute(\"\"\"\n",
    "INSERT INTO temp_attendance_table \n",
    "SELECT \n",
    "    CAST(School_Code AS INT),\n",
    "    CAST(School_Name AS VARCHAR(255)),\n",
    "    CAST(Year AS INT),\n",
    "    CASE \n",
    "        WHEN Attendance_pct IN ('sp', 'na', 'NULL') THEN NULL\n",
    "        ELSE CAST(Attendance_pct AS FLOAT) \n",
    "    END\n",
    "FROM student_attendance_unpivoted;\n",
    "\"\"\")\n",
    "# Drop the original table\n",
    "con.execute(\"\"\"\n",
    "DROP TABLE student_attendance_unpivoted;\n",
    "\"\"\")\n",
    "# Rename the temporary table \n",
    "con.execute(\"\"\"\n",
    "ALTER TABLE temp_attendance_table RENAME TO student_attendance_unpivoted;\n",
    "\"\"\")\n",
    "con.execute(\"ALTER TABLE student_attendance_unpivoted RENAME COLUMN 'school_Code' TO School_code;\")\n",
    "con.execute(\"ALTER TABLE student_attendance_unpivoted RENAME COLUMN 'school_Name' TO School_name;\")\n",
    "\n",
    "con.commit()"
   ]
  },
  {
   "cell_type": "markdown",
   "metadata": {},
   "source": [
    "##### Test to export table for checking"
   ]
  },
  {
   "cell_type": "code",
   "execution_count": null,
   "metadata": {},
   "outputs": [],
   "source": [
    "query = \"SELECT * FROM nsw_composite_school_attendance_data\"\n",
    "df = con.execute(query).fetchdf()  # Use fetchdf() to get a DataFrame\n",
    "# Save the DataFrame to Excel\n",
    "excel_path = \"nsw_composite_school_attendance_data.xlsx\"\n",
    "df.to_excel(excel_path, index=False, engine='openpyxl')"
   ]
  },
  {
   "cell_type": "markdown",
   "metadata": {},
   "source": [
    "#### Missing Value and Outlier Statistics and missing value Imputation and outlier handling"
   ]
  },
  {
   "cell_type": "code",
   "execution_count": null,
   "metadata": {},
   "outputs": [],
   "source": [
    "# Step 1: Connect to the database\n",
    "con.close()\n",
    "database_path = '../../database/nsw_doe_data_case_study.duckdb'\n",
    "database_connection = duckdb.connect(database_path, read_only=False)\n",
    "# Step 2: Define a function that calculates and shows missing data\n",
    "def get_missing_data_info(data_frame):\n",
    "    # Count how many missing values there are\n",
    "    missing_count = data_frame.isnull().sum()\n",
    "        # Find out the percentage of missing values\n",
    "    missing_percentage = (missing_count / len(data_frame)) * 100\n",
    "        # Put our results in a table and return it\n",
    "    result_table = pd.DataFrame({\n",
    "        'Missing Count': missing_count,\n",
    "        'Missing %': missing_percentage\n",
    "    })\n",
    "    # Sorting the results to make it more readable\n",
    "    result_table = result_table.sort_values(by='Missing %', ascending=False)\n",
    "    return result_table\n",
    "# Step 3: Get data from the database\n",
    "data_from_public_schools = database_connection.execute(\"SELECT * FROM public_school_nsw_master_dataset\").fetchdf()\n",
    "data_from_multi_age = database_connection.execute(\"SELECT * FROM multi_age_composite_unpivoted\").fetchdf()\n",
    "data_from_attendance = database_connection.execute(\"SELECT * FROM student_attendance_unpivoted\").fetchdf()\n",
    "# Step 4: Use our function on the data and print the results\n",
    "print(\"Info on Missing Data in public_school_nsw_master_dataset\")\n",
    "print(get_missing_data_info(data_from_public_schools))\n",
    "print(\"------\\n\")\n",
    "print(\"Info on Missing Data in multi_age_composite_unpivoted\")\n",
    "print(get_missing_data_info(data_from_multi_age))\n",
    "print(\"------\\n\")\n",
    "print(\"Info on Missing Data in student_attendance_unpivoted\")\n",
    "print(get_missing_data_info(data_from_attendance))\n",
    "print(\"------\\n\")\n"
   ]
  },
  {
   "cell_type": "code",
   "execution_count": null,
   "metadata": {},
   "outputs": [],
   "source": [
    "con = duckdb.connect('../../database/nsw_doe_data_case_study.duckdb',read_only=False)\n",
    "attendance_data = con.execute(\"SELECT Attendance_pct FROM STUDENT_ATTENDANCE_UNPIVOTED\").fetchdf()\n",
    "# Convert 'na' and other non-numeric entries to NaN for visualization\n",
    "attendance_data['Attendance_pct'] = pd.to_numeric(attendance_data['Attendance_pct'], errors='coerce')\n",
    "# Plot histogram for ATTENDANCE_PCT\n",
    "plt.figure(figsize=(10, 5))\n",
    "plt.hist(attendance_data['Attendance_pct'].dropna(), bins=30, edgecolor='black', alpha=0.7)\n",
    "plt.title('Distribution of Attendance_pct')\n",
    "plt.xlabel('Attendance_pct')\n",
    "plt.ylabel('Frequency')\n",
    "plt.grid(True, which='both', linestyle='--', linewidth=0.5)\n",
    "plt.show()\n",
    "# Plotting box plot for ATTENDANCE_PCT\n",
    "plt.figure(figsize=(10, 5))\n",
    "sns.boxplot(x=attendance_data['Attendance_pct'])\n",
    "plt.title('Box Plot of Attendance_pct')\n",
    "plt.xlabel('Attendance_pct')\n",
    "plt.grid(True, which='both', linestyle='--', linewidth=0.5)\n",
    "plt.show()"
   ]
  },
  {
   "cell_type": "code",
   "execution_count": null,
   "metadata": {},
   "outputs": [],
   "source": [
    "# Convert any 'NULL' values to numpy's NaN for compatibility with pandas\n",
    "attendance_data.replace('NULL', np.nan, inplace=True)\n",
    "median_value = attendance_data['Attendance_pct'].median()\n",
    "attendance_data['Attendance_pct'].fillna(median_value, inplace=True)\n",
    "missing_values = attendance_data['Attendance_pct'].isnull().sum()\n",
    "print(f\"There are {missing_values} missing values in the Attendance_pct column.\")\n",
    "# Iterate through the DataFrame\n",
    "for index, row in attendance_data.iterrows():\n",
    "    if pd.isnull(row['Attendance_pct']):\n",
    "        con.execute(f\"UPDATE STUDENT_ATTENDANCE_UNPIVOTED SET Attendance_pct = {median_value} WHERE School_Code = {row['School_Code']} AND Year = {row['Year']}\")\n",
    "# Commit the changes and close the connection\n",
    "con.commit()"
   ]
  },
  {
   "cell_type": "code",
   "execution_count": null,
   "metadata": {},
   "outputs": [],
   "source": [
    "con.execute(\"\"\"\n",
    "ALTER TABLE multi_age_composite_unpivoted RENAME COLUMN COMPOSITE_CLASS_COUNT TO Composite_class_count;\n",
    "ALTER TABLE multi_age_composite_unpivoted RENAME COLUMN COMPOSITE_CLASS_STUDENTS TO Composite_class_students;\n",
    "ALTER TABLE multi_age_composite_unpivoted RENAME COLUMN PCT_COMPOSITE_CLASSES TO Pct_composite_classes;\n",
    "ALTER TABLE multi_age_composite_unpivoted RENAME COLUMN PCT_COMPOSITE_CLASS_STUDENTS TO Pct_composite_class_students;\n",
    "\"\"\")\n",
    "\n",
    "con.commit()"
   ]
  },
  {
   "cell_type": "code",
   "execution_count": null,
   "metadata": {},
   "outputs": [],
   "source": [
    "# Fetch data from the MULTI_AGE_COMPOSITE_UNPIVOTED\n",
    "composite_data = con.execute(\"\"\"\n",
    "SELECT Composite_class_count, Composite_class_students, Pct_composite_classes, Pct_composite_class_students \n",
    "FROM Multi_age_composite_unpivoted \n",
    "WHERE School_name != 'NSW'\n",
    "\"\"\").fetchdf()\n",
    "\n",
    "# Ensure the data is numeric, replacing errors with NaN\n",
    "for col in composite_data.columns:\n",
    "    composite_data[col] = pd.to_numeric(composite_data[col], errors='coerce')\n",
    "\n",
    "# Create a larger figure to hold the subplots\n",
    "plt.figure(figsize=(15, 10))\n",
    "\n",
    "# Histogram for Composite_class_count\n",
    "plt.subplot(2, 4, 1)\n",
    "plt.hist(composite_data['Composite_class_count'].dropna(), bins=30, edgecolor='black', alpha=0.7)\n",
    "plt.xlabel('Composite Class Count')\n",
    "plt.ylabel('Frequency')\n",
    "plt.grid(True, which='both', linestyle='--', linewidth=0.5)\n",
    "\n",
    "# Box plot for Composite_class_count\n",
    "plt.subplot(2, 4, 2)\n",
    "sns.boxplot(x=composite_data['Composite_class_count'])\n",
    "plt.xlabel('Composite Class Count')\n",
    "plt.grid(True, which='both', linestyle='--', linewidth=0.5)\n",
    "\n",
    "# Histogram for Composite_class_students\n",
    "plt.subplot(2, 4, 3)\n",
    "plt.hist(composite_data['Composite_class_students'].dropna(), bins=30, edgecolor='black', alpha=0.7)\n",
    "plt.xlabel('Composite Class Students')\n",
    "plt.grid(True, which='both', linestyle='--', linewidth=0.5)\n",
    "\n",
    "# Box plot for Composite_class_students\n",
    "plt.subplot(2, 4, 4)\n",
    "sns.boxplot(x=composite_data['Composite_class_students'])\n",
    "plt.xlabel('Composite Class Students')\n",
    "plt.grid(True, which='both', linestyle='--', linewidth=0.5)\n",
    "\n",
    "# Histogram for Pct_composite_classes\n",
    "plt.subplot(2, 4, 5)\n",
    "plt.hist(composite_data['Pct_composite_classes'].dropna(), bins=30, edgecolor='black', alpha=0.7)\n",
    "plt.xlabel('Percent Composite Classes')\n",
    "plt.grid(True, which='both', linestyle='--', linewidth=0.5)\n",
    "\n",
    "# Box plot for Pct_composite_classes\n",
    "plt.subplot(2, 4, 6)\n",
    "sns.boxplot(x=composite_data['Pct_composite_classes'])\n",
    "plt.xlabel('Percent Composite Classes')\n",
    "plt.grid(True, which='both', linestyle='--', linewidth=0.5)\n",
    "\n",
    "# Histogram for Pct_composite_class_students\n",
    "plt.subplot(2, 4, 7)\n",
    "plt.hist(composite_data['Pct_composite_class_students'].dropna(), bins=30, edgecolor='black', alpha=0.7)\n",
    "plt.xlabel('Percent Composite Class Students')\n",
    "plt.grid(True, which='both', linestyle='--', linewidth=0.5)\n",
    "\n",
    "# Box plot for Pct_composite_class_students\n",
    "plt.subplot(2, 4, 8)\n",
    "sns.boxplot(x=composite_data['Pct_composite_class_students'])\n",
    "plt.xlabel('Percent Composite Class Students')\n",
    "plt.grid(True, which='both', linestyle='--', linewidth=0.5)\n",
    "\n",
    "# Adjust layout\n",
    "plt.tight_layout()\n",
    "plt.show()\n"
   ]
  },
  {
   "cell_type": "code",
   "execution_count": null,
   "metadata": {},
   "outputs": [],
   "source": [
    "# Calculate percentage of missing values for each column\n",
    "missing_percentage = (composite_data.isnull().sum() / len(composite_data)) * 100\n",
    "# Print header\n",
    "print(\"Percentage of Missing Values of MULTI_AGE_COMPOSITE_UNPIVOTED :\\n\" + \"-\"*50)\n",
    "print(missing_percentage)"
   ]
  },
  {
   "cell_type": "code",
   "execution_count": null,
   "metadata": {},
   "outputs": [],
   "source": [
    "# Compute the mean for Pct_composite_classes and Pct_composite_class_students\n",
    "mean_Pct_composite_classes = composite_data['Pct_composite_classes'].mean()\n",
    "mean_Pct_composite_class_students = composite_data['Pct_composite_class_students'].mean()\n",
    "# Impute missing values with the mean\n",
    "composite_data['Pct_composite_classes'].fillna(mean_Pct_composite_classes, inplace=True)\n",
    "composite_data['Pct_composite_class_students'].fillna(mean_Pct_composite_class_students, inplace=True)"
   ]
  },
  {
   "cell_type": "markdown",
   "metadata": {},
   "source": [
    "#### Handling outliers"
   ]
  },
  {
   "cell_type": "code",
   "execution_count": null,
   "metadata": {},
   "outputs": [],
   "source": [
    "# Fetching data from PUBLIC_SCHOOL_NSW_MASTER_DATASET\n",
    "data = con.execute(\"SELECT * FROM PUBLIC_SCHOOL_NSW_MASTER_DATASET\").fetchdf()\n",
    "# Function to calculate percentage of outliers using IQR\n",
    "def calculate_outliers_percentage(column):\n",
    "    Q1 = column.quantile(0.25)\n",
    "    Q3 = column.quantile(0.75)\n",
    "    IQR = Q3 - Q1\n",
    "    lower_bound = Q1 - 1.5 * IQR\n",
    "    upper_bound = Q3 + 1.5 * IQR\n",
    "    return ((column < lower_bound) | (column > upper_bound)).mean() * 100\n",
    "# Select numeric columns to measure outliers\n",
    "numeric_columns = data.select_dtypes(include=[np.number]).columns.tolist()\n",
    "outliers_percentage = {col: calculate_outliers_percentage(data[col]) for col in numeric_columns}\n",
    "print(\"Percentage of outliers in PUBLIC_SCHOOL_NSW_MASTER_DATASET:\")\n",
    "for column, percentage in outliers_percentage.items():\n",
    "    print(f\"{column}: {percentage:.2f}%\")"
   ]
  },
  {
   "cell_type": "code",
   "execution_count": null,
   "metadata": {},
   "outputs": [],
   "source": [
    "attendance_data = con.execute(\"SELECT Attendance_pct FROM STUDENT_ATTENDANCE_UNPIVOTED WHERE Attendance_pct IS NOT NULL\").fetchdf()\n",
    "# Convert to numeric\n",
    "attendance_data['Attendance_pct'] = pd.to_numeric(attendance_data['Attendance_pct'], errors='coerce')\n",
    "# Calculate Q1, Q3 and IQR\n",
    "Q1 = attendance_data['Attendance_pct'].quantile(0.25)\n",
    "Q3 = attendance_data['Attendance_pct'].quantile(0.75)\n",
    "IQR = Q3 - Q1\n",
    "# Defining bounds\n",
    "lower_bound = Q1 - 1.5 * IQR\n",
    "upper_bound = Q3 + 1.5 * IQR\n",
    "# Determine the number of outliers\n",
    "outliers = attendance_data[(attendance_data['Attendance_pct'] < lower_bound) | (attendance_data['Attendance_pct'] > upper_bound)]\n",
    "percentage_outliers = (len(outliers) / len(attendance_data)) * 100\n",
    "print(f\"Percentage of outliers in Attendance_pct: {percentage_outliers:.2f}%\")\n",
    "# As seen in your data, 5.57% is not an insignificant percentage. \n",
    "# Removing this many data points can result in a significant loss of data."
   ]
  },
  {
   "cell_type": "code",
   "execution_count": null,
   "metadata": {},
   "outputs": [],
   "source": [
    "print(\"Percentage of outliers of the MULTI_AGE_COMPOSITE_UNPIVOTED table:\")\n",
    "print(\"-\" * 60)  # This will print a line for separation\n",
    "for column, percentage in outliers_percentage.items():\n",
    "    print(f\"{column}: {percentage:.2f}%\")\n",
    "# From the given data, outliers constitute around 2% for COMPOSITE_CLASS_COUNT and COMPOSITE_CLASS_STUDENTS, \n",
    "# while they are 0% for the other two columns. \n",
    "# A small percentage might not always necessitate removal."
   ]
  },
  {
   "cell_type": "code",
   "execution_count": 5,
   "metadata": {},
   "outputs": [
    {
     "data": {
      "text/plain": [
       "<duckdb.DuckDBPyConnection at 0x7f6f51402630>"
      ]
     },
     "execution_count": 5,
     "metadata": {},
     "output_type": "execute_result"
    }
   ],
   "source": [
    "sql = \"\"\"\n",
    "CREATE OR REPLACE VIEW nsw_composite_school_attendance_data AS\n",
    "SELECT\n",
    "    M.School_code,\n",
    "    M.School_name,\n",
    "    M.Year,\n",
    "    M.Composite_class_count,\n",
    "    M.Composite_class_students,\n",
    "    ROUND(M.Pct_composite_classes, 2) AS Pct_composite_classes,\n",
    "    ROUND(M.Pct_composite_class_students, 2) AS Pct_composite_class_students,\n",
    "    ROUND(A.Attendance_pct, 2) AS Attendance_pct,\n",
    "    P.ICSEA_value,\n",
    "    P.Level_of_schooling,\n",
    "    P.latest_year_enrolment_FTE,\n",
    "    P.Indigenous_pct,\n",
    "    P.LBOTE_pct,\n",
    "    P.Selective_school,\n",
    "    P.Opportunity_class,\n",
    "    P.School_specialty_type,\n",
    "    P.School_subtype,\n",
    "    P.Preschool_ind,\n",
    "    P.Distance_education,\n",
    "    P.Intensive_english_centre,\n",
    "    P.School_gender,\n",
    "    P.Late_opening_school,\n",
    "    P.ASGS_remoteness,\n",
    "    P.Latitude,\n",
    "    P.Longitude,\n",
    "    P.Operational_directorate,\n",
    "    P.Principal_network,\n",
    "    P.Website,\n",
    "    P.Date_1st_teacher\n",
    "FROM\n",
    "    multi_age_composite_unpivoted M\n",
    "JOIN\n",
    "    student_attendance_unpivoted A ON M.School_code = A.School_Code AND M.Year = A.Year\n",
    "JOIN\n",
    "    public_school_nsw_master_dataset P ON M.School_code = P.School_code;\n",
    "\"\"\"\n",
    "\n",
    "con.execute(sql)\n"
   ]
  },
  {
   "cell_type": "code",
   "execution_count": 7,
   "metadata": {},
   "outputs": [
    {
     "ename": "ConnectionException",
     "evalue": "Connection Error: Connection has already been closed",
     "output_type": "error",
     "traceback": [
      "\u001b[0;31m---------------------------------------------------------------------------\u001b[0m",
      "\u001b[0;31mConnectionException\u001b[0m                       Traceback (most recent call last)",
      "Cell \u001b[0;32mIn[7], line 3\u001b[0m\n\u001b[1;32m      1\u001b[0m \u001b[39m# Execute the SELECT statement\u001b[39;00m\n\u001b[1;32m      2\u001b[0m query \u001b[39m=\u001b[39m \u001b[39m\"\u001b[39m\u001b[39mSELECT * FROM nsw_composite_school_attendance_data;\u001b[39m\u001b[39m\"\u001b[39m\n\u001b[0;32m----> 3\u001b[0m df \u001b[39m=\u001b[39m con\u001b[39m.\u001b[39;49mexecute(query)\u001b[39m.\u001b[39mfetchdf()\n\u001b[1;32m      5\u001b[0m \u001b[39m# Compute the correlation matrix\u001b[39;00m\n\u001b[1;32m      6\u001b[0m correlation_matrix \u001b[39m=\u001b[39m df\u001b[39m.\u001b[39mcorr()\n",
      "\u001b[0;31mConnectionException\u001b[0m: Connection Error: Connection has already been closed"
     ]
    }
   ],
   "source": [
    "# Execute the SELECT statement\n",
    "query = \"SELECT * FROM nsw_composite_school_attendance_data;\"\n",
    "df = con.execute(query).fetchdf()\n",
    "\n",
    "# Compute the correlation matrix\n",
    "correlation_matrix = df.corr()\n",
    "\n",
    "# Optionally, print the correlation matrix\n",
    "print(correlation_matrix)"
   ]
  }
 ],
 "metadata": {
  "kernelspec": {
   "display_name": "Python 3 (ipykernel)",
   "language": "python",
   "name": "python3"
  },
  "language_info": {
   "codemirror_mode": {
    "name": "ipython",
    "version": 3
   },
   "file_extension": ".py",
   "mimetype": "text/x-python",
   "name": "python",
   "nbconvert_exporter": "python",
   "pygments_lexer": "ipython3",
   "version": "3.11.4"
  },
  "orig_nbformat": 4
 },
 "nbformat": 4,
 "nbformat_minor": 2
}
