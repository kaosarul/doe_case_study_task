{
 "cells": [
  {
   "attachments": {},
   "cell_type": "markdown",
   "metadata": {},
   "source": [
    "# New South Wales Department of Education (NSW DOE) - Data Case Study \n",
    "## Data Analysis"
   ]
  },
  {
   "cell_type": "code",
   "execution_count": 22,
   "metadata": {},
   "outputs": [],
   "source": [
    "import pandas as pd\n",
    "import duckdb\n",
    "from ydata_profiling import ProfileReport\n",
    "import matplotlib.pyplot as plt\n",
    "import seaborn as sns\n",
    "import scipy.stats as stats\n",
    "from scipy.stats import ttest_ind\n",
    "import statsmodels.api as sm\n",
    "from sklearn.model_selection import train_test_split\n",
    "from sklearn.ensemble import RandomForestRegressor\n",
    "from sklearn.metrics import mean_squared_error"
   ]
  },
  {
   "attachments": {},
   "cell_type": "markdown",
   "metadata": {},
   "source": [
    "### connect to the database"
   ]
  },
  {
   "cell_type": "code",
   "execution_count": null,
   "metadata": {},
   "outputs": [],
   "source": [
    "con = duckdb.connect('../../database/nsw_doe_data_case_study.duckdb',read_only=False)"
   ]
  },
  {
   "attachments": {},
   "cell_type": "markdown",
   "metadata": {},
   "source": [
    "#### Exploratory Data Analysis:"
   ]
  },
  {
   "cell_type": "markdown",
   "metadata": {},
   "source": [
    "#### Data profile check"
   ]
  },
  {
   "cell_type": "code",
   "execution_count": null,
   "metadata": {},
   "outputs": [],
   "source": [
    "df = con.sql('select * from public_school_nsw_master_dataset').df()\n",
    "profile_public_school_nsw_master_dataset = ProfileReport(df, title=\"Public School NSW Data Profiling Report\")\n",
    "profile_public_school_nsw_master_dataset.to_file(\"profile_public_school_nsw_master_dataset.html\")\n",
    "profile_public_school_nsw_master_dataset"
   ]
  },
  {
   "cell_type": "code",
   "execution_count": null,
   "metadata": {},
   "outputs": [],
   "source": [
    "df = con.sql('select * from multi_age_composite_unpivoted').df()\n",
    "profile_multi_age_composite_unpivoted = ProfileReport(df, title=\"Multi Age Composite Profiling Report\")\n",
    "profile_multi_age_composite_unpivoted.to_file(\"profile_multi_age_composite_unpivoted.html\")\n",
    "profile_multi_age_composite_unpivoted"
   ]
  },
  {
   "cell_type": "code",
   "execution_count": null,
   "metadata": {},
   "outputs": [],
   "source": [
    "df = con.sql('select * from student_attendance_unpivoted').df()\n",
    "profile_student_attendance_dataset = ProfileReport(df, title=\"Student Attendance Profiling Report\")\n",
    "profile_student_attendance_dataset.to_file(\"student_attendance_unpivoted.html\")\n",
    "profile_student_attendance_dataset"
   ]
  },
  {
   "cell_type": "code",
   "execution_count": null,
   "metadata": {},
   "outputs": [],
   "source": [
    "df = con.sql('select * from nsw_composite_school_attendance_data').df()\n",
    "profile_student_attendance_dataset = ProfileReport(df, title=\"nsw_composite_school_attendance_data Profiling Report\")\n",
    "profile_student_attendance_dataset.to_file(\"nsw_composite_school_attendance_data.html\")\n",
    "profile_student_attendance_dataset"
   ]
  },
  {
   "attachments": {},
   "cell_type": "markdown",
   "metadata": {},
   "source": [
    "## Action: Data analysis:"
   ]
  },
  {
   "cell_type": "markdown",
   "metadata": {},
   "source": [
    "<span style=\"color:yellow; font-size:30px;\">Hypothesis Formulation:</span>"
   ]
  },
  {
   "cell_type": "markdown",
   "metadata": {},
   "source": [
    "| Title                   | Description                                                          |\n",
    "|-------------------------|----------------------------------------------------------------------|\n",
    "| **Objective**           | Determine if multi-age composite classes have an impact on attendance rates. |\n",
    "| **Null Hypothesis (H₀)** | Multi-age composite classes have no impact on attendance rates.      |\n",
    "| **Alternative Hypothesis (H₁)** | Multi-age composite classes have a significant impact on attendance rates. |\n"
   ]
  },
  {
   "attachments": {},
   "cell_type": "markdown",
   "metadata": {},
   "source": []
  },
  {
   "cell_type": "markdown",
   "metadata": {},
   "source": [
    "<span style=\"color:yellow; font-size:30px;\">Statistical Test:</span>"
   ]
  },
  {
   "cell_type": "code",
   "execution_count": null,
   "metadata": {},
   "outputs": [],
   "source": [
    "# Query data from the database\n",
    "columns = [\n",
    "    \"Composite_class_count\", \"Composite_class_students\", \"Pct_composite_classes\", \n",
    "    \"Pct_composite_class_students\", \"Attendance_pct\", \"ICSEA_value\", \n",
    "    \"latest_year_enrolment_FTE\", \"Indigenous_pct\", \"LBOTE_pct\"\n",
    "]\n",
    "query = f\"SELECT {','.join(columns)} FROM nsw_composite_school_attendance_data\"\n",
    "df = con.execute(query).fetch_df()\n",
    "\n",
    "# Drop rows with 'np' and blank values in the specified columns\n",
    "df = df[~df['Indigenous_pct'].isin(['np', ''])]\n",
    "df = df[~df['LBOTE_pct'].isin(['np', ''])]\n",
    "df = df[~df['ICSEA_value'].isin([''])]\n",
    "\n",
    "# Convert the columns to numeric\n",
    "for col in columns:\n",
    "    df[col] = pd.to_numeric(df[col], errors='coerce')\n",
    "\n",
    "# Descriptive statistics\n",
    "desc_stats = df.describe()\n",
    "print(desc_stats)\n",
    "\n",
    "# Correlation matrix\n",
    "correlations = df.corr()\n",
    "print(correlations)\n",
    "\n",
    "# Separate schools based on ICSEA_value\n",
    "mean_icsea = df['ICSEA_value'].mean()\n",
    "high_icsea = df[df['ICSEA_value'] > mean_icsea]\n",
    "low_icsea = df[df['ICSEA_value'] <= mean_icsea]\n",
    "\n",
    "# T-tests\n",
    "significant_cols = []\n",
    "\n",
    "for col in columns:\n",
    "    t_stat, p_val = ttest_ind(high_icsea[col], low_icsea[col], nan_policy='omit')  # omitting NaN values\n",
    "    \n",
    "    # Apply Bonferroni correction for multiple testing\n",
    "    adjusted_alpha = 0.05 / len(columns)\n",
    "    \n",
    "    if p_val < adjusted_alpha:\n",
    "        significant_cols.append(col)\n",
    "\n",
    "print(\"\\nColumns with significant differences between high and low ICSEA schools:\")\n",
    "print(significant_cols)"
   ]
  },
  {
   "cell_type": "markdown",
   "metadata": {},
   "source": [
    "### Descriptive Statistics:\n",
    "Composite_class_count: The average number of composite classes per school is approximately 4.9, with a maximum of 29 and a minimum of 0.\n",
    "Composite_class_students: On average, there are around 123 students in composite classes in a school, with a maximum of 779 and a minimum of 0.\n",
    "Pct_composite_classes: The mean percentage of composite classes in schools is approximately 49.5%. The values range from 0% to 100%.\n",
    "Pct_composite_class_students: The average percentage of students in composite classes is about 51.9% and ranges from 0% to 100%.\n",
    "Attendance_pct: The average attendance percentage is approximately 91.8% with a maximum of 97.9% and a minimum of 50.6%.\n",
    "ICSEA_value: The average ICSEA value is around 980.8, with a range from 586 to 1186.\n",
    "latest_year_enrolment_FTE: The average enrolment for the latest year is about 353.9, with a maximum of 2079 and a minimum of 2.\n",
    "Indigenous_pct: On average, 14.1% of the student population in schools are Indigenous, with the percentage going as high as 100% in some schools.\n",
    "LBOTE_pct: On average, 26.7% of the student population in schools are from a language background other than English. The percentage varies from 0% to 100% across different schools.\n",
    "Correlation Matrix:\n",
    "This matrix showcases the relationship between two variables. A positive value indicates a direct relationship while a negative value indicates an inverse relationship. Values close to 1 or -1 show strong correlations.\n",
    "\n",
    "Some key takeaways:\n",
    "\n",
    "Composite_class_count and Composite_class_students have a strong positive correlation of 0.987, meaning as one increases, the other tends to as well.\n",
    "Pct_composite_classes and Pct_composite_class_students also share a strong positive correlation of approximately 0.997.\n",
    "ICSEA_value and Indigenous_pct have a strong negative correlation of approximately -0.849. This suggests that schools with higher percentages of Indigenous students tend to have lower ICSEA values.\n",
    "Attendance_pct and ICSEA_value share a moderately positive correlation of 0.526, suggesting that schools with higher ICSEA values also tend to have higher attendance percentages."
   ]
  },
  {
   "cell_type": "markdown",
   "metadata": {},
   "source": [
    "#### T-tests:"
   ]
  },
  {
   "cell_type": "code",
   "execution_count": null,
   "metadata": {},
   "outputs": [],
   "source": [
    "# Split the dataframe based on ICSEA_value median\n",
    "median_icsea = df['ICSEA_value'].median()\n",
    "high_icsea_df = df[df['ICSEA_value'] > median_icsea]\n",
    "low_icsea_df = df[df['ICSEA_value'] <= median_icsea]\n",
    "\n",
    "# Columns to run t-tests on\n",
    "columns = [\n",
    "    \"Composite_class_count\", \"Composite_class_students\", \"Pct_composite_classes\",\n",
    "    \"Pct_composite_class_students\", \"Attendance_pct\", \"latest_year_enrolment_FTE\",\n",
    "    \"Indigenous_pct\", \"LBOTE_pct\"\n",
    "]\n",
    "\n",
    "# Running t-tests\n",
    "results = {}\n",
    "for col in columns:\n",
    "    t_stat, p_value = stats.ttest_ind(high_icsea_df[col], low_icsea_df[col], nan_policy='omit')\n",
    "    results[col] = {\"t-statistic\": t_stat, \"p-value\": p_value}\n",
    "\n",
    "results_df = pd.DataFrame(results).T\n",
    "print(results_df)"
   ]
  },
  {
   "cell_type": "markdown",
   "metadata": {},
   "source": [
    "#### Outcome of T-test:\n",
    "Pct_composite_classes:\n",
    "\n",
    "t-statistic: -23.572692\n",
    "p-value: Extremely close to 0.\n",
    "Interpretation: There's a highly significant difference between the percentages of composite classes in high ICSEA schools and low ICSEA schools.\n",
    "Pct_composite_class_students:\n",
    "\n",
    "t-statistic: -23.001235\n",
    "p-value: Extremely close to 0.\n",
    "Interpretation: There's a very significant difference in the percentages of students in composite classes between high ICSEA schools and low ICSEA schools.\n",
    "Attendance_pct:\n",
    "\n",
    "t-statistic: 35.825538\n",
    "p-value: Extremely close to 0.\n",
    "Interpretation: Attendance percentage significantly differs between high ICSEA schools and low ICSEA schools.\n",
    "When we consider the above metrics in relation to each other:\n",
    "\n",
    "Both Pct_composite_classes and Pct_composite_class_students show significant differences between high ICSEA and low ICSEA schools. This implies that the use of composite classes or the proportion of students in these classes might be influenced by school type or other factors related to the school's socio-economic status (as represented by the ICSEA value).\n",
    "\n",
    "The Attendance_pct also shows a significant difference, which means attendance is affected by ICSEA values.\n",
    "\n",
    "However, to directly determine if multi-age composite classes have an impact on attendance rates, we need to examine the correlation between composite class metrics (Pct_composite_classes and Pct_composite_class_students) and Attendance_pct:\n",
    "\n",
    "The correlation between Pct_composite_classes and Attendance_pct is -0.208262. This indicates a weak negative relationship, meaning that as the percentage of composite classes increases, attendance slightly decreases.\n",
    "\n",
    "Similarly, the correlation between Pct_composite_class_students and Attendance_pct is -0.205552, which also suggests a weak negative relationship between the percentage of students in composite classes and attendance.\n",
    "\n",
    "Comments:\n",
    "While there is a weak negative correlation between the use of composite classes (or the percentage of students in these classes) and attendance rates, it is essential to be cautious. Correlation does not imply causation. Other factors (e.g., school resources, location, socio-economic factors) might influence both the use of composite classes and attendance rates. Further studies or analyses (like regression analyses) would be needed to determine if there's a direct causal relationship between composite classes and attendance rates."
   ]
  },
  {
   "cell_type": "markdown",
   "metadata": {},
   "source": [
    "#### Hypothesis Outcome:\n",
    "(If the t-test p-value is below a certain significance level (usually 0.05), we reject the null hypothesis, indicating that there's a significant difference in attendance rates.)"
   ]
  },
  {
   "cell_type": "markdown",
   "metadata": {},
   "source": [
    "Results:\n",
    "Composite_class_count:\n",
    "p-value: 1.996499e-01 (or 0.1996)\n",
    "Composite_class_students:\n",
    "p-value: 4.806868e-04 (or 0.0004807)\n",
    "Pct_composite_classes:\n",
    "p-value: 4.760830e-119 (virtually 0)\n",
    "Pct_composite_class_students:\n",
    "p-value: 1.314659e-113 (virtually 0)\n",
    "Attendance_pct:\n",
    "p-value: 9.131261e-262 (virtually 0)\n",
    "latest_year_enrolment_FTE:\n",
    "p-value: 1.060082e-184 (virtually 0)\n",
    "Indigenous_pct:\n",
    "p-value: 0.000000e+00 (0)\n",
    "LBOTE_pct:\n",
    "p-value: 2.038754e-128 (virtually 0)\n",
    "Interpretation & Conclusion:\n",
    "For Composite_class_count, the p-value (0.1996) is greater than 0.05. Therefore, we fail to reject the null hypothesis for this variable. This means there is no significant difference in the count of composite classes between high and low ICSEA schools.\n",
    "\n",
    "For all other variables (Composite_class_students, Pct_composite_classes, Pct_composite_class_students, Attendance_pct, latest_year_enrolment_FTE, Indigenous_pct, LBOTE_pct), the p-values are far below the 0.05 significance level. Hence, we can reject the null hypothesis for these variables. This indicates that there are significant differences in these metrics between high ICSEA schools and low ICSEA schools.\n",
    "\n",
    "To relate this back to your objective - \"Does multi-age composite classes have an impact on attendance rates?\":\n",
    "\n",
    "The metrics directly related to composite classes (Pct_composite_classes and Pct_composite_class_students) show a significant difference between high ICSEA and low ICSEA schools.\n",
    "\n",
    "The Attendance_pct also significantly differs between the two groups.\n",
    "\n",
    "Given these results, we can conclude that there is a relationship between multi-age composite classes and attendance rates across high and low ICSEA schools. However, the precise nature of this relationship (i.e., causative or merely associative) would require further, more detailed analyses."
   ]
  },
  {
   "cell_type": "markdown",
   "metadata": {},
   "source": [
    "#### Multiple Linear Regression Analysis:"
   ]
  },
  {
   "cell_type": "code",
   "execution_count": null,
   "metadata": {},
   "outputs": [],
   "source": [
    "# Drop rows with 'np' and blank values in the specified columns\n",
    "df = df[~df['Indigenous_pct'].isin(['np', ''])]\n",
    "df = df[~df['LBOTE_pct'].isin(['np', ''])]\n",
    "df = df[~df['ICSEA_value'].isin([''])]\n",
    "\n",
    "# Define the predictor variables (features)\n",
    "X = df[['Composite_class_students', 'Composite_class_count','Pct_composite_classes', 'Pct_composite_class_students', 'ICSEA_value', 'latest_year_enrolment_FTE', 'Indigenous_pct', 'LBOTE_pct']]\n",
    "\n",
    "# Add a constant term to the predictor variables\n",
    "X = sm.add_constant(X)\n",
    "\n",
    "# Define the target variable\n",
    "y = df['Attendance_pct']\n",
    "\n",
    "# Fit the regression model\n",
    "model = sm.OLS(y, X).fit()\n",
    "\n",
    "# Get the summary of the regression analysis\n",
    "summary = model.summary()\n",
    "print(summary)"
   ]
  },
  {
   "cell_type": "markdown",
   "metadata": {},
   "source": [
    "The updated Multiple Linear Regression analysis provides further insights into the impact of various factors on attendance rates in schools with multi-age composite classes:\n",
    "\n",
    "R-squared: The R-squared value is now approximately 0.319. This indicates that around 31.9% of the variance in the dependent variable (Attendance_pct) is explained by the independent variables in the model.\n",
    "\n",
    "Coefficients (coef): The coefficients represent the change in the dependent variable (Attendance_pct) for a one-unit change in each independent variable, while keeping other variables constant.\n",
    "\n",
    "Composite_class_students: A unit increase in Composite_class_students is associated with a 0.0507 increase in Attendance_pct.\n",
    "Composite_class_count: A unit increase in Composite_class_count is associated with a -1.3036 decrease in Attendance_pct.\n",
    "Pct_composite_classes: A unit increase in Pct_composite_classes is associated with a 0.1512 increase in Attendance_pct.\n",
    "Pct_composite_class_students: A unit increase in Pct_composite_class_students is associated with a -0.1501 decrease in Attendance_pct.\n",
    "ICSEA_value: A unit increase in ICSEA_value is associated with a 0.0117 increase in Attendance_pct.\n",
    "latest_year_enrolment_FTE: A unit increase in latest_year_enrolment_FTE is associated with a -0.0011 decrease in Attendance_pct.\n",
    "Indigenous_pct: A unit increase in Indigenous_pct is associated with a -0.0548 decrease in Attendance_pct.\n",
    "LBOTE_pct: A unit increase in LBOTE_pct is associated with a -0.0074 decrease in Attendance_pct.\n",
    "P-values (P>|t|): All the p-values are very close to zero, indicating that all the coefficients are statistically significant. This suggests that each of these independent variables has a significant impact on the dependent variable (Attendance_pct).\n",
    "\n",
    "Adjusted R-squared: The Adjusted R-squared value remains around 0.319, indicating that the model with these variables is still a good fit for explaining the variation in Attendance_pct.\n",
    "\n",
    "In summary, the updated analysis reinforces that the variables including Composite_class_students, Composite_class_count, Pct_composite_classes, Pct_composite_class_students, ICSEA_value, latest_year_enrolment_FTE, Indigenous_pct, and LBOTE_pct have a significant impact on attendance rates. The negative coefficient for Composite_class_count indicates that an increase in the number of composite classes is associated with a decrease in attendance rates. This analysis provides a more comprehensive understanding of the factors influencing attendance rates in schools with multi-age composite classes."
   ]
  },
  {
   "cell_type": "markdown",
   "metadata": {},
   "source": [
    "#### Machine Learning - Random Forest:"
   ]
  },
  {
   "cell_type": "code",
   "execution_count": 25,
   "metadata": {},
   "outputs": [
    {
     "name": "stdout",
     "output_type": "stream",
     "text": [
      "Composite_class_students: 0.18011545927871678\n",
      "Composite_class_count: 0.037108093319189114\n",
      "Pct_composite_classes: 0.06428291964147513\n",
      "Pct_composite_class_students: 0.10028358064861378\n",
      "ICSEA_value: 0.34153035720571395\n",
      "latest_year_enrolment_FTE: 0.10854447606088662\n",
      "Indigenous_pct: 0.11252638227631924\n",
      "LBOTE_pct: 0.05560873156908551\n",
      "Mean Squared Error: 9.060393155587107\n"
     ]
    }
   ],
   "source": [
    "# Select predictor variables\n",
    "predictors = ['Composite_class_students', 'Composite_class_count','Pct_composite_classes', 'Pct_composite_class_students', 'ICSEA_value', 'latest_year_enrolment_FTE', 'Indigenous_pct', 'LBOTE_pct']\n",
    "\n",
    "# Define predictor matrix X and target variable y\n",
    "X = df[predictors]\n",
    "y = df['Attendance_pct']\n",
    "\n",
    "# Split data into training and testing sets\n",
    "X_train, X_test, y_train, y_test = train_test_split(X, y, test_size=0.2, random_state=42)\n",
    "\n",
    "# Initialize and train the Random Forest model\n",
    "rf_model = RandomForestRegressor(n_estimators=100, random_state=42)\n",
    "rf_model.fit(X_train, y_train)\n",
    "\n",
    "# Get feature importances\n",
    "feature_importances = rf_model.feature_importances_\n",
    "\n",
    "# Print feature importances\n",
    "for feature, importance in zip(predictors, feature_importances):\n",
    "    print(f\"{feature}: {importance}\")\n",
    "\n",
    "# Predict attendance rates on the test set\n",
    "y_pred = rf_model.predict(X_test)\n",
    "\n",
    "# Calculate Mean Squared Error\n",
    "mse = mean_squared_error(y_test, y_pred)\n",
    "print(\"Mean Squared Error:\", mse)"
   ]
  },
  {
   "cell_type": "markdown",
   "metadata": {},
   "source": [
    "#### Outcome of Machine Learning - Random Forest:"
   ]
  },
  {
   "cell_type": "markdown",
   "metadata": {},
   "source": [
    "Based on the feature importances from the Random Forest model and the Mean Squared Error (MSE) value, the following insights can be drawn:\n",
    "Among the provided features, ICSEA_value (Index of Community Socio-Educational Advantage) has the highest importance, suggesting that it is a significant predictor of attendance rates.\n",
    "Other important features include Composite_class_students, Indigenous_pct (Percentage of Indigenous students), and latest_year_enrolment_FTE (Full-Time Equivalent). These factors also contribute to predicting attendance rates.\n",
    "Pct_composite_class_students (Percentage of students in composite classes) and Pct_composite_classes (Percentage of composite classes) have moderate importance.\n",
    "Features such as Composite_class_count (Number of composite classes), and LBOTE_pct (Percentage of students with Language Background Other Than English) have relatively lower importance.\n",
    "The lower Mean Squared Error (MSE) value of approximately 9.06 compared to the previous analysis indicates improved model performance in predicting attendance rates. The feature importances and the model's predictive capability collectively suggest that a combination of socio-educational advantage, class size, student demographics, and other factors contribute to attendance rates. However, as with any statistical analysis, these insights should be interpreted within the context of the dataset and the modeling approach."
   ]
  }
 ],
 "metadata": {
  "kernelspec": {
   "display_name": "Python 3",
   "language": "python",
   "name": "python3"
  },
  "language_info": {
   "codemirror_mode": {
    "name": "ipython",
    "version": 3
   },
   "file_extension": ".py",
   "mimetype": "text/x-python",
   "name": "python",
   "nbconvert_exporter": "python",
   "pygments_lexer": "ipython3",
   "version": "3.11.4"
  },
  "orig_nbformat": 4
 },
 "nbformat": 4,
 "nbformat_minor": 2
}
