{
 "cells": [
  {
   "attachments": {},
   "cell_type": "markdown",
   "metadata": {},
   "source": [
    "# New South Wales Department of Education (NSW DOE) - Data Case Study \n",
    "## Data Analysis"
   ]
  },
  {
   "cell_type": "code",
   "execution_count": 2,
   "metadata": {},
   "outputs": [],
   "source": [
    "import pandas as pd\n",
    "import duckdb\n",
    "from ydata_profiling import ProfileReport\n",
    "import matplotlib.pyplot as plt\n",
    "import seaborn as sns\n",
    "import scipy.stats as stats"
   ]
  },
  {
   "attachments": {},
   "cell_type": "markdown",
   "metadata": {},
   "source": [
    "### connect to the database"
   ]
  },
  {
   "cell_type": "code",
   "execution_count": null,
   "metadata": {},
   "outputs": [],
   "source": [
    "con = duckdb.connect('../../database/nsw_doe_data_case_study.duckdb',read_only=False)"
   ]
  },
  {
   "attachments": {},
   "cell_type": "markdown",
   "metadata": {},
   "source": [
    "#### Exploratory Data Analysis:"
   ]
  },
  {
   "cell_type": "markdown",
   "metadata": {},
   "source": [
    "#### Data profile check"
   ]
  },
  {
   "cell_type": "code",
   "execution_count": null,
   "metadata": {},
   "outputs": [],
   "source": [
    "df = con.sql('select * from public_school_nsw_master_dataset').df()\n",
    "profile_public_school_nsw_master_dataset = ProfileReport(df, title=\"Public School NSW Data Profiling Report\")\n",
    "profile_public_school_nsw_master_dataset.to_file(\"profile_public_school_nsw_master_dataset.html\")\n",
    "profile_public_school_nsw_master_dataset"
   ]
  },
  {
   "cell_type": "code",
   "execution_count": null,
   "metadata": {},
   "outputs": [],
   "source": [
    "df = con.sql('select * from multi_age_composite_unpivoted').df()\n",
    "profile_multi_age_composite_unpivoted = ProfileReport(df, title=\"Multi Age Composite Profiling Report\")\n",
    "profile_multi_age_composite_unpivoted.to_file(\"profile_multi_age_composite_unpivoted.html\")\n",
    "profile_multi_age_composite_unpivoted"
   ]
  },
  {
   "cell_type": "code",
   "execution_count": null,
   "metadata": {},
   "outputs": [],
   "source": [
    "df = con.sql('select * from student_attendance_unpivoted').df()\n",
    "profile_student_attendance_dataset = ProfileReport(df, title=\"Student Attendance Profiling Report\")\n",
    "profile_student_attendance_dataset.to_file(\"student_attendance_unpivoted.html\")\n",
    "profile_student_attendance_dataset"
   ]
  },
  {
   "cell_type": "code",
   "execution_count": null,
   "metadata": {},
   "outputs": [],
   "source": [
    "df = con.sql('select * from nsw_composite_school_attendance_data').df()\n",
    "profile_student_attendance_dataset = ProfileReport(df, title=\"nsw_composite_school_attendance_data Profiling Report\")\n",
    "profile_student_attendance_dataset.to_file(\"nsw_composite_school_attendance_data.html\")\n",
    "profile_student_attendance_dataset"
   ]
  },
  {
   "attachments": {},
   "cell_type": "markdown",
   "metadata": {},
   "source": [
    "## Action: Data analysis:"
   ]
  },
  {
   "cell_type": "markdown",
   "metadata": {},
   "source": [
    "<span style=\"color:yellow; font-size:30px;\">Hypothesis Formulation:</span>"
   ]
  },
  {
   "cell_type": "markdown",
   "metadata": {},
   "source": [
    "| Title                   | Description                                                          |\n",
    "|-------------------------|----------------------------------------------------------------------|\n",
    "| **Objective**           | Determine if multi-age composite classes have an impact on attendance rates. |\n",
    "| **Null Hypothesis (H₀)** | Multi-age composite classes have no impact on attendance rates.      |\n",
    "| **Alternative Hypothesis (H₁)** | Multi-age composite classes have a significant impact on attendance rates. |\n"
   ]
  },
  {
   "attachments": {},
   "cell_type": "markdown",
   "metadata": {},
   "source": []
  },
  {
   "cell_type": "markdown",
   "metadata": {},
   "source": [
    "<span style=\"color:yellow; font-size:30px;\">Statistical Test:</span>"
   ]
  },
  {
   "cell_type": "code",
   "execution_count": 3,
   "metadata": {},
   "outputs": [
    {
     "ename": "NameError",
     "evalue": "name 'df' is not defined",
     "output_type": "error",
     "traceback": [
      "\u001b[0;31m---------------------------------------------------------------------------\u001b[0m",
      "\u001b[0;31mNameError\u001b[0m                                 Traceback (most recent call last)",
      "Cell \u001b[0;32mIn[3], line 2\u001b[0m\n\u001b[1;32m      1\u001b[0m \u001b[39m# Group data by schools with and without composite classes\u001b[39;00m\n\u001b[0;32m----> 2\u001b[0m group_with_composite \u001b[39m=\u001b[39m df[df[\u001b[39m'\u001b[39m\u001b[39mhas_composite_class\u001b[39m\u001b[39m'\u001b[39m]][\u001b[39m'\u001b[39m\u001b[39mAttendance_pct\u001b[39m\u001b[39m'\u001b[39m]\n\u001b[1;32m      3\u001b[0m group_without_composite \u001b[39m=\u001b[39m df[\u001b[39m~\u001b[39mdf[\u001b[39m'\u001b[39m\u001b[39mhas_composite_class\u001b[39m\u001b[39m'\u001b[39m]][\u001b[39m'\u001b[39m\u001b[39mAttendance_pct\u001b[39m\u001b[39m'\u001b[39m]\n\u001b[1;32m      5\u001b[0m \u001b[39m# Conduct the t-test\u001b[39;00m\n",
      "\u001b[0;31mNameError\u001b[0m: name 'df' is not defined"
     ]
    }
   ],
   "source": [
    "\n",
    "# Group data by schools with and without composite classes\n",
    "group_with_composite = df[df['has_composite_class']]['Attendance_pct']\n",
    "group_without_composite = df[~df['has_composite_class']]['Attendance_pct']\n",
    "\n",
    "# Conduct the t-test\n",
    "t_stat, p_value = stats.ttest_ind(group_with_composite, group_without_composite)\n",
    "\n",
    "print(f\"t-statistic: {t_stat}\")\n",
    "print(f\"p-value: {p_value}\")\n",
    "\n",
    "# Interpretation\n",
    "alpha = 0.05\n",
    "if p_value < alpha:\n",
    "    print(\"Reject the null hypothesis. There is a significant difference in the mean attendance rates.\")\n",
    "else:\n",
    "    print(\"Fail to reject the null hypothesis. There isn't a significant difference in the mean attendance rates.\")"
   ]
  }
 ],
 "metadata": {
  "kernelspec": {
   "display_name": "Python 3",
   "language": "python",
   "name": "python3"
  },
  "language_info": {
   "codemirror_mode": {
    "name": "ipython",
    "version": 3
   },
   "file_extension": ".py",
   "mimetype": "text/x-python",
   "name": "python",
   "nbconvert_exporter": "python",
   "pygments_lexer": "ipython3",
   "version": "3.11.4"
  },
  "orig_nbformat": 4
 },
 "nbformat": 4,
 "nbformat_minor": 2
}
