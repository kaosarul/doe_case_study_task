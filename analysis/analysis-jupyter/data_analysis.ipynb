{
 "cells": [
  {
   "attachments": {},
   "cell_type": "markdown",
   "metadata": {},
   "source": [
    "# New South Wales Department of Education (NSW DOE) - Data Case Study \n",
    "## Data Analysis"
   ]
  },
  {
   "cell_type": "code",
   "execution_count": 5,
   "metadata": {},
   "outputs": [],
   "source": [
    "import pandas as pd\n",
    "import duckdb\n",
    "from ydata_profiling import ProfileReport\n",
    "import matplotlib.pyplot as plt\n",
    "import seaborn as sns\n",
    "import scipy.stats as stats\n",
    "from scipy.stats import ttest_ind"
   ]
  },
  {
   "attachments": {},
   "cell_type": "markdown",
   "metadata": {},
   "source": [
    "### connect to the database"
   ]
  },
  {
   "cell_type": "code",
   "execution_count": 8,
   "metadata": {},
   "outputs": [
    {
     "ename": "IOException",
     "evalue": "IO Error: Could not set lock on file \"/workspaces/doe_case_study_task/analysis/analysis-jupyter/../../database/nsw_doe_data_case_study.duckdb\": Resource temporarily unavailable",
     "output_type": "error",
     "traceback": [
      "\u001b[0;31m---------------------------------------------------------------------------\u001b[0m",
      "\u001b[0;31mIOException\u001b[0m                               Traceback (most recent call last)",
      "Cell \u001b[0;32mIn[8], line 1\u001b[0m\n\u001b[0;32m----> 1\u001b[0m con \u001b[39m=\u001b[39m duckdb\u001b[39m.\u001b[39;49mconnect(\u001b[39m'\u001b[39;49m\u001b[39m../../database/nsw_doe_data_case_study.duckdb\u001b[39;49m\u001b[39m'\u001b[39;49m,read_only\u001b[39m=\u001b[39;49m\u001b[39mFalse\u001b[39;49;00m)\n",
      "\u001b[0;31mIOException\u001b[0m: IO Error: Could not set lock on file \"/workspaces/doe_case_study_task/analysis/analysis-jupyter/../../database/nsw_doe_data_case_study.duckdb\": Resource temporarily unavailable"
     ]
    }
   ],
   "source": [
    "con = duckdb.connect('../../database/nsw_doe_data_case_study.duckdb',read_only=False)"
   ]
  },
  {
   "attachments": {},
   "cell_type": "markdown",
   "metadata": {},
   "source": [
    "#### Exploratory Data Analysis:"
   ]
  },
  {
   "cell_type": "markdown",
   "metadata": {},
   "source": [
    "#### Data profile check"
   ]
  },
  {
   "cell_type": "code",
   "execution_count": null,
   "metadata": {},
   "outputs": [],
   "source": [
    "df = con.sql('select * from public_school_nsw_master_dataset').df()\n",
    "profile_public_school_nsw_master_dataset = ProfileReport(df, title=\"Public School NSW Data Profiling Report\")\n",
    "profile_public_school_nsw_master_dataset.to_file(\"profile_public_school_nsw_master_dataset.html\")\n",
    "profile_public_school_nsw_master_dataset"
   ]
  },
  {
   "cell_type": "code",
   "execution_count": null,
   "metadata": {},
   "outputs": [],
   "source": [
    "df = con.sql('select * from multi_age_composite_unpivoted').df()\n",
    "profile_multi_age_composite_unpivoted = ProfileReport(df, title=\"Multi Age Composite Profiling Report\")\n",
    "profile_multi_age_composite_unpivoted.to_file(\"profile_multi_age_composite_unpivoted.html\")\n",
    "profile_multi_age_composite_unpivoted"
   ]
  },
  {
   "cell_type": "code",
   "execution_count": null,
   "metadata": {},
   "outputs": [],
   "source": [
    "df = con.sql('select * from student_attendance_unpivoted').df()\n",
    "profile_student_attendance_dataset = ProfileReport(df, title=\"Student Attendance Profiling Report\")\n",
    "profile_student_attendance_dataset.to_file(\"student_attendance_unpivoted.html\")\n",
    "profile_student_attendance_dataset"
   ]
  },
  {
   "cell_type": "code",
   "execution_count": null,
   "metadata": {},
   "outputs": [],
   "source": [
    "df = con.sql('select * from nsw_composite_school_attendance_data').df()\n",
    "profile_student_attendance_dataset = ProfileReport(df, title=\"nsw_composite_school_attendance_data Profiling Report\")\n",
    "profile_student_attendance_dataset.to_file(\"nsw_composite_school_attendance_data.html\")\n",
    "profile_student_attendance_dataset"
   ]
  },
  {
   "attachments": {},
   "cell_type": "markdown",
   "metadata": {},
   "source": [
    "## Action: Data analysis:"
   ]
  },
  {
   "cell_type": "markdown",
   "metadata": {},
   "source": [
    "<span style=\"color:yellow; font-size:30px;\">Hypothesis Formulation:</span>"
   ]
  },
  {
   "cell_type": "markdown",
   "metadata": {},
   "source": [
    "| Title                   | Description                                                          |\n",
    "|-------------------------|----------------------------------------------------------------------|\n",
    "| **Objective**           | Determine if multi-age composite classes have an impact on attendance rates. |\n",
    "| **Null Hypothesis (H₀)** | Multi-age composite classes have no impact on attendance rates.      |\n",
    "| **Alternative Hypothesis (H₁)** | Multi-age composite classes have a significant impact on attendance rates. |\n"
   ]
  },
  {
   "attachments": {},
   "cell_type": "markdown",
   "metadata": {},
   "source": []
  },
  {
   "cell_type": "markdown",
   "metadata": {},
   "source": [
    "<span style=\"color:yellow; font-size:30px;\">Statistical Test:</span>"
   ]
  },
  {
   "cell_type": "code",
   "execution_count": 7,
   "metadata": {},
   "outputs": [
    {
     "ename": "NameError",
     "evalue": "name 'con' is not defined",
     "output_type": "error",
     "traceback": [
      "\u001b[0;31m---------------------------------------------------------------------------\u001b[0m",
      "\u001b[0;31mNameError\u001b[0m                                 Traceback (most recent call last)",
      "Cell \u001b[0;32mIn[7], line 3\u001b[0m\n\u001b[1;32m      1\u001b[0m \u001b[39m# Query data from the database\u001b[39;00m\n\u001b[1;32m      2\u001b[0m query \u001b[39m=\u001b[39m \u001b[39m\"\u001b[39m\u001b[39mSELECT * FROM nsw_composite_school_attendance_data\u001b[39m\u001b[39m\"\u001b[39m\n\u001b[0;32m----> 3\u001b[0m df \u001b[39m=\u001b[39m con\u001b[39m.\u001b[39mexecute(query)\u001b[39m.\u001b[39mfetch_df()\n\u001b[1;32m      5\u001b[0m \u001b[39m# Descriptive statistics\u001b[39;00m\n\u001b[1;32m      6\u001b[0m desc_stats \u001b[39m=\u001b[39m df\u001b[39m.\u001b[39mdescribe()\n",
      "\u001b[0;31mNameError\u001b[0m: name 'con' is not defined"
     ]
    }
   ],
   "source": [
    "# Query data from the database\n",
    "query = \"SELECT * FROM nsw_composite_school_attendance_data\"\n",
    "df = con.execute(query).fetch_df()\n",
    "\n",
    "# Descriptive statistics\n",
    "desc_stats = df.describe()\n",
    "print(desc_stats)\n",
    "\n",
    "# Correlation matrix\n",
    "correlations = df.corr()\n",
    "print(correlations)\n",
    "\n",
    "# Separate schools based on ICSEA_value\n",
    "mean_icsea = df['ICSEA_value'].mean()\n",
    "high_icsea = df[df['ICSEA_value'] > mean_icsea]\n",
    "low_icsea = df[df['ICSEA_value'] <= mean_icsea]\n",
    "\n",
    "# Columns for t-tests\n",
    "cols_for_ttest = [\n",
    "    'Composite_class_count',\n",
    "    'Composite_class_students',\n",
    "    'Pct_composite_classes',\n",
    "    'Pct_composite_class_students',\n",
    "    'Attendance_pct',\n",
    "    'ICSEA_value',\n",
    "    'latest_year_enrolment_FTE',\n",
    "    'Indigenous_pct',\n",
    "    'LBOTE_pct'\n",
    "]\n",
    "\n",
    "# T-tests\n",
    "significant_cols = []\n",
    "\n",
    "for col in cols_for_ttest:\n",
    "    t_stat, p_val = ttest_ind(high_icsea[col], low_icsea[col], nan_policy='omit')  # omitting NaN values\n",
    "    \n",
    "    # Apply Bonferroni correction for multiple testing\n",
    "    adjusted_alpha = 0.05 / len(cols_for_ttest)\n",
    "    \n",
    "    if p_val < adjusted_alpha:\n",
    "        significant_cols.append(col)\n",
    "\n",
    "print(\"\\nColumns with significant differences between high and low ICSEA schools:\")\n",
    "print(significant_cols)"
   ]
  }
 ],
 "metadata": {
  "kernelspec": {
   "display_name": "Python 3",
   "language": "python",
   "name": "python3"
  },
  "language_info": {
   "codemirror_mode": {
    "name": "ipython",
    "version": 3
   },
   "file_extension": ".py",
   "mimetype": "text/x-python",
   "name": "python",
   "nbconvert_exporter": "python",
   "pygments_lexer": "ipython3",
   "version": "3.11.4"
  },
  "orig_nbformat": 4
 },
 "nbformat": 4,
 "nbformat_minor": 2
}
