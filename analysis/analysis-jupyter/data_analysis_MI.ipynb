{
 "cells": [
  {
   "attachments": {},
   "cell_type": "markdown",
   "metadata": {},
   "source": [
    "# New South Wales Department of Education (NSW DOE) - Data Case Study \n",
    "## Data Analysis"
   ]
  },
  {
   "cell_type": "code",
   "execution_count": null,
   "metadata": {},
   "outputs": [],
   "source": [
    "# import necessary libraries\n",
    "import pandas as pd\n",
    "import duckdb\n",
    "from ydata_profiling import ProfileReport\n",
    "from scipy.stats import ttest_ind\n",
    "import statsmodels.api as sm\n",
    "from sklearn.model_selection import train_test_split\n",
    "from sklearn.ensemble import RandomForestRegressor\n",
    "from sklearn.metrics import mean_squared_error\n",
    "import warnings\n",
    "warnings.simplefilter(action='ignore', category=FutureWarning)\n",
    "import matplotlib.pyplot as plt\n",
    "import seaborn as sns\n",
    "import scipy.stats as stats"
   ]
  },
  {
   "attachments": {},
   "cell_type": "markdown",
   "metadata": {},
   "source": [
    "### Connect to the database"
   ]
  },
  {
   "cell_type": "code",
   "execution_count": null,
   "metadata": {},
   "outputs": [],
   "source": [
    "# connect to db\n",
    "con = duckdb.connect('../../database/nsw_doe_data_case_study.duckdb',read_only=False)"
   ]
  },
  {
   "attachments": {},
   "cell_type": "markdown",
   "metadata": {},
   "source": [
    "## Exploratory Data Analysis:"
   ]
  },
  {
   "cell_type": "markdown",
   "metadata": {},
   "source": [
    "#### Data profile check"
   ]
  },
  {
   "cell_type": "code",
   "execution_count": null,
   "metadata": {},
   "outputs": [],
   "source": [
    "# Data profile check of public_school_nsw_master_dataset\n",
    "df = con.sql('select * from public_school_nsw_master_dataset').df()\n",
    "profile_public_school_nsw_master_dataset = ProfileReport(df, title=\"Public School NSW Data Profiling Report\")\n",
    "profile_public_school_nsw_master_dataset.to_file(\"profile_public_school_nsw_master_dataset.html\")\n",
    "profile_public_school_nsw_master_dataset"
   ]
  },
  {
   "cell_type": "code",
   "execution_count": null,
   "metadata": {},
   "outputs": [],
   "source": [
    "# Data profile check of multi_age_composite_unpivoted\n",
    "df = con.sql('select * from multi_age_composite_unpivoted').df()\n",
    "profile_multi_age_composite_unpivoted = ProfileReport(df, title=\"Multi Age Composite Profiling Report\")\n",
    "profile_multi_age_composite_unpivoted.to_file(\"profile_multi_age_composite_unpivoted.html\")\n",
    "profile_multi_age_composite_unpivoted"
   ]
  },
  {
   "cell_type": "code",
   "execution_count": null,
   "metadata": {},
   "outputs": [],
   "source": [
    "# Data profile check of student_attendance_unpivoted\n",
    "df = con.sql('select * from student_attendance_unpivoted').df()\n",
    "profile_student_attendance_dataset = ProfileReport(df, title=\"Student Attendance Profiling Report\")\n",
    "profile_student_attendance_dataset.to_file(\"student_attendance_unpivoted.html\")\n",
    "profile_student_attendance_dataset"
   ]
  },
  {
   "cell_type": "code",
   "execution_count": null,
   "metadata": {},
   "outputs": [],
   "source": [
    "# Data profile check of model data - nsw_composite_school_attendance_data\n",
    "df = con.sql('select * from nsw_composite_school_attendance_data').df()\n",
    "profile_student_attendance_dataset = ProfileReport(df, title=\"nsw_composite_school_attendance_data Profiling Report\")\n",
    "profile_student_attendance_dataset.to_file(\"nsw_composite_school_attendance_data.html\")\n",
    "profile_student_attendance_dataset"
   ]
  },
  {
   "cell_type": "markdown",
   "metadata": {},
   "source": [
    "#### Average Trends Over Years"
   ]
  },
  {
   "cell_type": "code",
   "execution_count": null,
   "metadata": {},
   "outputs": [],
   "source": [
    "query = \"\"\"\n",
    "SELECT\n",
    "    Year,\n",
    "    AVG(Pct_composite_classes) AS Avg_Pct_composite_classes,\n",
    "    AVG(Pct_composite_class_students) AS Avg_Pct_composite_class_students,\n",
    "    AVG(Attendance_pct) AS Avg_Attendance_pct\n",
    "FROM nsw_composite_school_attendance_data\n",
    "GROUP BY Year\n",
    "\"\"\"\n",
    "results = con.execute(query).fetchall()\n",
    "\n",
    "df = pd.DataFrame(results, columns=[\"Year\", \"Avg_Pct_composite_classes\", \"Avg_Pct_composite_class_students\", \"Avg_Attendance_pct\"])\n",
    "\n",
    "# Create a line chart\n",
    "plt.figure(figsize=(6, 4))\n",
    "\n",
    "columns_to_plot = [\"Avg_Pct_composite_classes\", \"Avg_Pct_composite_class_students\", \"Avg_Attendance_pct\"]\n",
    "\n",
    "for column in columns_to_plot:\n",
    "    plt.plot(df[\"Year\"], df[column], label=column.replace(\"Avg_\", \"\"))\n",
    "\n",
    "plt.title(\"Average Trends Over Years\")\n",
    "plt.xlabel(\"Year\")\n",
    "plt.ylabel(\"Average Value\")\n",
    "plt.legend()\n",
    "plt.grid(True)\n",
    "plt.tight_layout()\n",
    "plt.show()\n"
   ]
  },
  {
   "cell_type": "markdown",
   "metadata": {},
   "source": [
    "#### Correlation Matrix of the Data Model"
   ]
  },
  {
   "cell_type": "code",
   "execution_count": null,
   "metadata": {},
   "outputs": [],
   "source": [
    "# Execute the SELECT statement\n",
    "query = \"SELECT * FROM nsw_composite_school_attendance_data;\"\n",
    "df = con.execute(query).fetchdf()\n",
    "# Select only numeric columns\n",
    "numeric_cols = df.select_dtypes(include=['float64', 'int64', 'float32', 'int32']).columns\n",
    "numeric_df = df[numeric_cols]\n",
    "# Compute the correlation matrix for numeric columns only\n",
    "correlation_matrix = numeric_df.corr()\n",
    "# Display the correlation matrix\n",
    "print(correlation_matrix)\n",
    "# Plot the heatmap\n",
    "plt.figure(figsize=(12, 10))\n",
    "sns.heatmap(correlation_matrix, cmap='coolwarm', annot=True)\n",
    "plt.title(\"Correlation Matrix Heatmap\")\n",
    "plt.show()"
   ]
  },
  {
   "cell_type": "markdown",
   "metadata": {},
   "source": [
    "#### Q-Q plot (Quantile-Quantile plot): compare two probability distributions"
   ]
  },
  {
   "cell_type": "code",
   "execution_count": null,
   "metadata": {},
   "outputs": [],
   "source": [
    "query = \"SELECT * FROM nsw_composite_school_attendance_data;\"\n",
    "df = con.execute(query).fetchdf()\n",
    "\n",
    "# Select only numeric columns\n",
    "numeric_cols = df.select_dtypes(include=['float64', 'int64', 'float32', 'int32']).columns\n",
    "\n",
    "# Plot Q-Q plots for each numeric column\n",
    "for col in numeric_cols:\n",
    "    plt.figure(figsize=(8, 6))\n",
    "    stats.probplot(df[col], plot=plt)\n",
    "    plt.title(f'Q-Q Plot for {col}')\n",
    "    plt.show()\n"
   ]
  },
  {
   "cell_type": "markdown",
   "metadata": {},
   "source": [
    "#### Distribution Plots:"
   ]
  },
  {
   "cell_type": "code",
   "execution_count": null,
   "metadata": {},
   "outputs": [],
   "source": [
    "import seaborn as sns\n",
    "import matplotlib.pyplot as plt\n",
    "query = \"SELECT * FROM nsw_composite_school_attendance_data;\"\n",
    "df = con.execute(query).fetchdf()\n",
    "numeric_cols = df.select_dtypes(include=['float64', 'int64', 'float32', 'int32']).columns\n",
    "# Exclude 'School_code' and 'Year'\n",
    "numeric_cols = numeric_cols.drop(['School_code', 'Year'])\n",
    "n_cols = 3  \n",
    "n_rows = -(-len(numeric_cols) // n_cols)  \n",
    "# Create subplots\n",
    "fig, axes = plt.subplots(n_rows, n_cols, figsize=(12, n_rows*3))\n",
    "if n_rows == 1:\n",
    "    axes = axes.reshape(1, -1)\n",
    "for i, col in enumerate(numeric_cols):\n",
    "    sns.histplot(df[col], bins=30, kde=True, ax=axes[i//n_cols, i%n_cols])\n",
    "    axes[i//n_cols, i%n_cols].set_title(f'Distribution for {col}')\n",
    "    axes[i//n_cols, i%n_cols].grid(True)\n",
    "# Remove any unused subplots\n",
    "for j in range(i+1, n_rows*n_cols):\n",
    "    fig.delaxes(axes.flatten()[j])\n",
    "plt.tight_layout()\n",
    "plt.suptitle('Distribution Plots for Numeric Columns', y=1.05)\n",
    "plt.show()"
   ]
  },
  {
   "cell_type": "markdown",
   "metadata": {},
   "source": [
    "#### Pairwise relationships and distributions for numeric columns:"
   ]
  },
  {
   "cell_type": "code",
   "execution_count": null,
   "metadata": {},
   "outputs": [],
   "source": [
    "# Execute the SELECT statement\n",
    "query = \"SELECT * FROM nsw_composite_school_attendance_data;\"\n",
    "df = con.execute(query).fetchdf()\n",
    "# Select only numeric columns\n",
    "numeric_cols = df.select_dtypes(include=['float64', 'int64', 'float32', 'int32']).columns\n",
    "# Exclude 'School_code' and 'Year'\n",
    "numeric_cols = numeric_cols.drop(['School_code', 'Year'])\n",
    "# Pair Plots for numeric columns\n",
    "sns.pairplot(df[numeric_cols])\n",
    "plt.suptitle('Pair Plots for Numeric Columns', y=1.02)\n",
    "plt.show()\n"
   ]
  },
  {
   "attachments": {},
   "cell_type": "markdown",
   "metadata": {},
   "source": [
    "## Action: Data analysis:"
   ]
  },
  {
   "cell_type": "markdown",
   "metadata": {},
   "source": [
    "<span style=\"color:yellow; font-size:30px;\">Hypothesis Formulation:</span>"
   ]
  },
  {
   "cell_type": "markdown",
   "metadata": {},
   "source": [
    "| Title                   | Description                                                          |\n",
    "|-------------------------|----------------------------------------------------------------------|\n",
    "| **Objective**           | Determine if multi-age composite classes have an impact on attendance rates. |\n",
    "| **Null Hypothesis (H₀)** | Multi-age composite classes have no impact on attendance rates.      |\n",
    "| **Alternative Hypothesis (H₁)** | Multi-age composite classes have a significant impact on attendance rates. |\n"
   ]
  },
  {
   "cell_type": "markdown",
   "metadata": {},
   "source": [
    "<span style=\"color:yellow; font-size:30px;\">Statistical Test:</span>"
   ]
  },
  {
   "cell_type": "code",
   "execution_count": null,
   "metadata": {},
   "outputs": [],
   "source": [
    "# Query data from the database\n",
    "columns = [\n",
    "    \"Composite_class_count\", \"Composite_class_students\", \"Pct_composite_classes\", \n",
    "    \"Pct_composite_class_students\", \"Attendance_pct\", \"ICSEA_value\", \n",
    "    \"latest_year_enrolment_FTE\", \"Indigenous_pct\", \"LBOTE_pct\"\n",
    "]\n",
    "query = f\"SELECT {','.join(columns)} FROM nsw_composite_school_attendance_data\"\n",
    "df = con.execute(query).fetch_df()\n",
    "\n",
    "# Drop rows with 'np' and blank values in the specified columns\n",
    "df = df[~df['Indigenous_pct'].isin(['np', ''])]\n",
    "df = df[~df['LBOTE_pct'].isin(['np', ''])]\n",
    "df = df[~df['ICSEA_value'].isin([''])]\n",
    "\n",
    "# Convert the columns to numeric\n",
    "for col in columns:\n",
    "    df[col] = pd.to_numeric(df[col], errors='coerce')\n",
    "\n",
    "# Descriptive statistics\n",
    "desc_stats = df.describe()\n",
    "print(desc_stats)\n",
    "\n",
    "# Correlation matrix\n",
    "correlations = df.corr()\n",
    "print(correlations)\n",
    "\n",
    "# Separate schools based on ICSEA_value\n",
    "mean_icsea = df['ICSEA_value'].mean()\n",
    "high_icsea = df[df['ICSEA_value'] > mean_icsea]\n",
    "low_icsea = df[df['ICSEA_value'] <= mean_icsea]\n",
    "\n",
    "# T-tests\n",
    "significant_cols = []\n",
    "\n",
    "for col in columns:\n",
    "    t_stat, p_val = ttest_ind(high_icsea[col], low_icsea[col], nan_policy='omit')  # omitting NaN values\n",
    "    \n",
    "    # Apply Bonferroni correction for multiple testing\n",
    "    adjusted_alpha = 0.05 / len(columns)\n",
    "    \n",
    "    if p_val < adjusted_alpha:\n",
    "        significant_cols.append(col)\n",
    "\n",
    "print(\"\\nColumns with significant differences between high and low ICSEA schools:\")\n",
    "print(significant_cols)"
   ]
  },
  {
   "cell_type": "markdown",
   "metadata": {},
   "source": [
    "<span style=\"color:yellow; font-size:30px;\">Descriptive Statistics:</span>"
   ]
  },
  {
   "cell_type": "markdown",
   "metadata": {},
   "source": [
    "| Feature                                           | Correlation Value | Summary                                       |\n",
    "|---------------------------------------------------|-------------------|-----------------------------------------------|\n",
    "| `Composite_class_count vs. Attendance_pct`        | -0.013698         | Very weak negative relation.                  |\n",
    "| `Composite_class_students vs. Attendance_pct`     | 0.040343          | Slight increase with more students in composite classes. |\n",
    "| `Pct_composite_classes vs. Attendance_pct`        | -0.208262         | Schools with more composite classes might see a bit less attendance. |\n",
    "| `Pct_composite_class_students vs. Attendance_pct`| -0.205552         | More students in composite classes could lead to a slight drop in attendance. |\n",
    "\n",
    "**Overall Summary**: \n",
    "\n",
    "The more composite classes or students there are, there might be a slight drop in attendance. However, the relationship is generally weak, indicating other factors could play a significant role in attendance rates.\n"
   ]
  },
  {
   "cell_type": "markdown",
   "metadata": {},
   "source": [
    "<span style=\"color:yellow; font-size:30px;\">T-tests: Statistical Significance:</span>"
   ]
  },
  {
   "cell_type": "code",
   "execution_count": null,
   "metadata": {},
   "outputs": [],
   "source": [
    "# Split the dataframe based on ICSEA_value median\n",
    "median_icsea = df['ICSEA_value'].median()\n",
    "high_icsea_df = df[df['ICSEA_value'] > median_icsea]\n",
    "low_icsea_df = df[df['ICSEA_value'] <= median_icsea]\n",
    "\n",
    "# Columns to run t-tests on\n",
    "columns = [\n",
    "    \"Composite_class_count\", \"Composite_class_students\", \"Pct_composite_classes\",\n",
    "    \"Pct_composite_class_students\", \"Attendance_pct\", \"latest_year_enrolment_FTE\",\n",
    "    \"Indigenous_pct\", \"LBOTE_pct\"\n",
    "]\n",
    "\n",
    "# Running t-tests\n",
    "results = {}\n",
    "for col in columns:\n",
    "    t_stat, p_value = stats.ttest_ind(high_icsea_df[col], low_icsea_df[col], nan_policy='omit')\n",
    "    results[col] = {\"t-statistic\": t_stat, \"p-value\": p_value}\n",
    "\n",
    "results_df = pd.DataFrame(results).T\n",
    "print(results_df)"
   ]
  },
  {
   "cell_type": "markdown",
   "metadata": {},
   "source": [
    "<span style=\"color:yellow; font-size:25px;\">Outcome of T-test:</span>"
   ]
  },
  {
   "cell_type": "markdown",
   "metadata": {},
   "source": [
    "| Metric                          | t-statistic | p-value        | Interpretation                                                                       |\n",
    "|---------------------------------|-------------|----------------|--------------------------------------------------------------------------------------|\n",
    "| `Pct_composite_classes`         | -23.572692  | Close to 0     | Highly significant difference between high and low ICSEA schools.                     |\n",
    "| `Pct_composite_class_students`  | -23.001235  | Close to 0     | Significant difference in student percentages in composite classes by ICSEA.          |\n",
    "| `Attendance_pct`                | 35.825538   | Close to 0     | Significant attendance difference between high and low ICSEA schools.                 |\n",
    "\n",
    "**Correlation Analysis**:\n",
    "- `Pct_composite_classes vs. Attendance_pct`: Correlation = -0.208262 (weak negative)\n",
    "- `Pct_composite_class_students vs. Attendance_pct`: Correlation = -0.205552 (weak negative)\n",
    "\n",
    "**Conclusions**: \n",
    "- Both composite class metrics show a significant difference between high and low ICSEA schools.\n",
    "- There's a weak negative correlation between composite classes/students and attendance.\n",
    "- However, correlation doesn't imply causation. Other factors could influence both the use of composite classes and attendance rates.\n"
   ]
  },
  {
   "cell_type": "markdown",
   "metadata": {},
   "source": [
    "<span style=\"color:yellow; font-size:30px;\">Hypothesis Outcome:</span>"
   ]
  },
  {
   "cell_type": "markdown",
   "metadata": {},
   "source": [
    "<span style=\"color:green; font-size:15px;\">(If the t-test p-value is below a certain significance level (usually 0.05), we reject the null hypothesis, indicating that there's a significant difference in attendance rates.)</span>"
   ]
  },
  {
   "cell_type": "markdown",
   "metadata": {},
   "source": [
    "## Analysis Results\n",
    "\n",
    "| Metric                         | p-value                     | Interpretation                                                                                                    |\n",
    "|--------------------------------|-----------------------------|-------------------------------------------------------------------------------------------------------------------|\n",
    "| `Composite_class_count`        | 0.1996                      | No significant difference in count of composite classes between high & low ICSEA schools.                          |\n",
    "| `Composite_class_students`     | 0.0004807                   | Significant difference.                                                                                           |\n",
    "| `Pct_composite_classes`        | Virtually 0                 | Significant difference.                                                                                           |\n",
    "| `Pct_composite_class_students` | Virtually 0                 | Significant difference.                                                                                           |\n",
    "| `Attendance_pct`               | Virtually 0                 | Significant attendance difference.                                                                               |\n",
    "| `latest_year_enrolment_FTE`    | Virtually 0                 | Significant difference.                                                                                           |\n",
    "| `Indigenous_pct`               | 0                           | Significant difference.                                                                                           |\n",
    "| `LBOTE_pct`                    | Virtually 0                 | Significant difference.                                                                                           |\n",
    "\n",
    "## Conclusions\n",
    "- Only `Composite_class_count` doesn't show a significant difference between high and low ICSEA schools.\n",
    "- Metrics related to composite classes (`Pct_composite_classes` and `Pct_composite_class_students`) and attendance (`Attendance_pct`) differ significantly between the two school types.\n",
    "- This indicates a relationship between multi-age composite classes and attendance across ICSEA levels. Further detailed analyses are needed to determine causation.\n"
   ]
  },
  {
   "cell_type": "markdown",
   "metadata": {},
   "source": [
    "<span style=\"color:yellow; font-size:30px;\">Multiple Linear Regression Analysis:</span>"
   ]
  },
  {
   "cell_type": "code",
   "execution_count": 14,
   "metadata": {},
   "outputs": [
    {
     "name": "stdout",
     "output_type": "stream",
     "text": [
      "                            OLS Regression Results                            \n",
      "==============================================================================\n",
      "Dep. Variable:         Attendance_pct   R-squared:                       0.319\n",
      "Model:                            OLS   Adj. R-squared:                  0.319\n",
      "Method:                 Least Squares   F-statistic:                     493.5\n",
      "Date:                Sun, 20 Aug 2023   Prob (F-statistic):               0.00\n",
      "Time:                        01:49:18   Log-Likelihood:                -21522.\n",
      "No. Observations:                8431   AIC:                         4.306e+04\n",
      "Df Residuals:                    8422   BIC:                         4.312e+04\n",
      "Df Model:                           8                                         \n",
      "Covariance Type:            nonrobust                                         \n",
      "================================================================================================\n",
      "                                   coef    std err          t      P>|t|      [0.025      0.975]\n",
      "------------------------------------------------------------------------------------------------\n",
      "const                           82.1488      0.751    109.352      0.000      80.676      83.621\n",
      "Composite_class_students         0.0507      0.003     15.655      0.000       0.044       0.057\n",
      "Composite_class_count           -1.3036      0.086    -15.246      0.000      -1.471      -1.136\n",
      "Pct_composite_classes            0.1512      0.016      9.623      0.000       0.120       0.182\n",
      "Pct_composite_class_students    -0.1501      0.016     -9.643      0.000      -0.181      -0.120\n",
      "ICSEA_value                      0.0117      0.001     16.587      0.000       0.010       0.013\n",
      "latest_year_enrolment_FTE       -0.0011      0.000     -4.650      0.000      -0.002      -0.001\n",
      "Indigenous_pct                  -0.0548      0.004    -13.291      0.000      -0.063      -0.047\n",
      "LBOTE_pct                       -0.0074      0.001     -5.279      0.000      -0.010      -0.005\n",
      "==============================================================================\n",
      "Omnibus:                     3390.793   Durbin-Watson:                   0.881\n",
      "Prob(Omnibus):                  0.000   Jarque-Bera (JB):            24416.189\n",
      "Skew:                          -1.760   Prob(JB):                         0.00\n",
      "Kurtosis:                      10.557   Cond. No.                     2.36e+04\n",
      "==============================================================================\n",
      "\n",
      "Notes:\n",
      "[1] Standard Errors assume that the covariance matrix of the errors is correctly specified.\n",
      "[2] The condition number is large, 2.36e+04. This might indicate that there are\n",
      "strong multicollinearity or other numerical problems.\n"
     ]
    }
   ],
   "source": [
    "# Drop rows with 'np' and blank values in the specified columns\n",
    "df = df.dropna()  # Drop rows with NaN values\n",
    "df = df[~np.isinf(df).any(axis=1)]  # Drop rows with Inf values\n",
    "df = df[~df['Indigenous_pct'].isin(['np', ''])]\n",
    "df = df[~df['LBOTE_pct'].isin(['np', ''])]\n",
    "df = df[~df['ICSEA_value'].isin([''])]\n",
    "\n",
    "# Define the predictor variables (features)\n",
    "X = df[['Composite_class_students', 'Composite_class_count','Pct_composite_classes', 'Pct_composite_class_students', 'ICSEA_value', 'latest_year_enrolment_FTE', 'Indigenous_pct', 'LBOTE_pct']]\n",
    "\n",
    "# Add a constant term to the predictor variables\n",
    "X = sm.add_constant(X)\n",
    "\n",
    "# Define the target variable\n",
    "y = df['Attendance_pct']\n",
    "\n",
    "# Fit the regression model\n",
    "model = sm.OLS(y, X).fit()\n",
    "\n",
    "# Get the summary of the regression analysis\n",
    "summary = model.summary()\n",
    "print(summary)"
   ]
  },
  {
   "cell_type": "markdown",
   "metadata": {},
   "source": [
    "## Updated Multiple Linear Regression Analysis\n",
    "\n",
    "### General Statistics:\n",
    "- **R-squared:** 0.319 (31.9% of variance in `Attendance_pct` is explained by the model.)\n",
    "- **Adjusted R-squared:** 0.319 (Model is a good fit for explaining variation in `Attendance_pct`.)\n",
    "\n",
    "### Impact of Independent Variables on `Attendance_pct`:\n",
    "\n",
    "| Independent Variable          | Coefficient (coef) | Interpretation                                                               |\n",
    "|-------------------------------|--------------------|------------------------------------------------------------------------------|\n",
    "| `Composite_class_students`    | 0.0507             | A unit increase leads to a 0.0507 increase in Attendance_pct.                |\n",
    "| `Composite_class_count`       | -1.3036            | A unit increase leads to a -1.3036 decrease in Attendance_pct.               |\n",
    "| `Pct_composite_classes`       | 0.1512             | A unit increase leads to a 0.1512 increase in Attendance_pct.                |\n",
    "| `Pct_composite_class_students`| -0.1501            | A unit increase leads to a -0.1501 decrease in Attendance_pct.               |\n",
    "| `ICSEA_value`                 | 0.0117             | A unit increase leads to a 0.0117 increase in Attendance_pct.                |\n",
    "| `latest_year_enrolment_FTE`   | -0.0011            | A unit increase leads to a -0.0011 decrease in Attendance_pct.               |\n",
    "| `Indigenous_pct`              | -0.0548            | A unit increase leads to a -0.0548 decrease in Attendance_pct.               |\n",
    "| `LBOTE_pct`                   | -0.0074            | A unit increase leads to a -0.0074 decrease in Attendance_pct.               |\n",
    "\n",
    "### P-values:\n",
    "All p-values are close to zero, indicating the significance of each variable in the model.\n",
    "\n",
    "### Conclusion:\n",
    "Variables like `Composite_class_students`, `Composite_class_count`, and others significantly impact attendance rates. Notably, more composite classes are linked to reduced attendance. This offers a deeper understanding of factors affecting attendance in multi-age composite class schools.\n"
   ]
  },
  {
   "cell_type": "markdown",
   "metadata": {},
   "source": [
    "<span style=\"color:yellow; font-size:30px;\">Machine Learning - Random Forest:</span>"
   ]
  },
  {
   "cell_type": "code",
   "execution_count": 15,
   "metadata": {},
   "outputs": [
    {
     "name": "stdout",
     "output_type": "stream",
     "text": [
      "Composite_class_students: 0.18011545927871678\n",
      "Composite_class_count: 0.037108093319189114\n",
      "Pct_composite_classes: 0.06428291964147513\n",
      "Pct_composite_class_students: 0.10028358064861378\n",
      "ICSEA_value: 0.34153035720571395\n",
      "latest_year_enrolment_FTE: 0.10854447606088662\n",
      "Indigenous_pct: 0.11252638227631924\n",
      "LBOTE_pct: 0.05560873156908551\n",
      "Mean Squared Error: 9.060393155587107\n"
     ]
    }
   ],
   "source": [
    "# Select predictor variables\n",
    "predictors = ['Composite_class_students', 'Composite_class_count','Pct_composite_classes', 'Pct_composite_class_students', 'ICSEA_value', 'latest_year_enrolment_FTE', 'Indigenous_pct', 'LBOTE_pct']\n",
    "\n",
    "# Define predictor matrix X and target variable y\n",
    "X = df[predictors]\n",
    "y = df['Attendance_pct']\n",
    "\n",
    "# Split data into training and testing sets\n",
    "X_train, X_test, y_train, y_test = train_test_split(X, y, test_size=0.2, random_state=42)\n",
    "\n",
    "# Initialize and train the Random Forest model\n",
    "rf_model = RandomForestRegressor(n_estimators=100, random_state=42)\n",
    "rf_model.fit(X_train, y_train)\n",
    "\n",
    "# Get feature importances\n",
    "feature_importances = rf_model.feature_importances_\n",
    "\n",
    "# Print feature importances\n",
    "for feature, importance in zip(predictors, feature_importances):\n",
    "    print(f\"{feature}: {importance}\")\n",
    "\n",
    "# Predict attendance rates on the test set\n",
    "y_pred = rf_model.predict(X_test)\n",
    "\n",
    "# Calculate Mean Squared Error\n",
    "mse = mean_squared_error(y_test, y_pred)\n",
    "print(\"Mean Squared Error:\", mse)"
   ]
  },
  {
   "cell_type": "markdown",
   "metadata": {},
   "source": [
    "#### <span style=\"color:green; font-size:20px;\">Outcome of Machine Learning - Random Forest: </span>"
   ]
  },
  {
   "cell_type": "markdown",
   "metadata": {},
   "source": [
    "## Insights from Random Forest Model:\n",
    "\n",
    "| Feature                        | Importance | Interpretation                                               |\n",
    "|--------------------------------|------------|--------------------------------------------------------------|\n",
    "| **ICSEA_value**                | Highest    | Major predictor of attendance rates.                         |\n",
    "| **Composite_class_students**   | High       | Significant contributor to predicting attendance rates.      |\n",
    "| **Indigenous_pct**             | High       | Significant contributor to predicting attendance rates.      |\n",
    "| **latest_year_enrolment_FTE**  | High       | Significant contributor to predicting attendance rates.      |\n",
    "| **Pct_composite_class_students** | Moderate  |                                                              |\n",
    "| **Pct_composite_classes**      | Moderate   |                                                              |\n",
    "| **Composite_class_count**      | Low        |                                                              |\n",
    "| **LBOTE_pct**                  | Low        |                                                              |\n",
    "\n",
    "### Model Performance:\n",
    "\n",
    "- **Mean Squared Error (MSE)**: Approximately 9.06.\n",
    "   - Interpretation: Improved prediction of attendance rates compared to previous analyses.\n",
    "\n",
    "### Conclusion:\n",
    "The model indicates that socio-educational advantage, class size, student demographics, etc., play a role in attendance rates.\n"
   ]
  },
  {
   "cell_type": "code",
   "execution_count": 16,
   "metadata": {},
   "outputs": [],
   "source": [
    "con.close()"
   ]
  }
 ],
 "metadata": {
  "kernelspec": {
   "display_name": "Python 3",
   "language": "python",
   "name": "python3"
  },
  "language_info": {
   "codemirror_mode": {
    "name": "ipython",
    "version": 3
   },
   "file_extension": ".py",
   "mimetype": "text/x-python",
   "name": "python",
   "nbconvert_exporter": "python",
   "pygments_lexer": "ipython3",
   "version": "3.11.4"
  },
  "orig_nbformat": 4
 },
 "nbformat": 4,
 "nbformat_minor": 2
}
